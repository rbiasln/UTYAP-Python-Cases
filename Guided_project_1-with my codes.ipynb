{
 "cells": [
  {
   "cell_type": "markdown",
   "metadata": {
    "id": "VMuUK0ap_bRD"
   },
   "source": [
    "# Chapter 1\n",
    "### Your first day at your new job 👩‍💻👨‍💻\n",
    "\n",
    "You are starting a new job as a junior software developer in an IT company. \n",
    "\n",
    "The company’s HR department asks you to fill out a form, so you start by assigning your personal information to corresponding variables.\n",
    "\n",
    "📌 Create a variable for your name, surname, age, ID number, place of residence, to specify if you have active health insurance or not, and lastly one for specifying your nationality.\n"
   ]
  },
  {
   "cell_type": "code",
   "execution_count": 2,
   "metadata": {
    "id": "OPLhhc2Sp-D0"
   },
   "outputs": [
    {
     "name": "stdout",
     "output_type": "stream",
     "text": [
      "Please enter a few personal information required for our company.\n"
     ]
    },
    {
     "name": "stdin",
     "output_type": "stream",
     "text": [
      "What is your name and surname? rabia aslan\n",
      "How old ae u? 21\n",
      "What is your ID number? 123456789\n",
      "Where do you reside? ankara\n",
      "Do you have a specific active disease, and if so, what is it? no\n",
      "What is your nationality turkey\n"
     ]
    }
   ],
   "source": [
    "#Please assign your personal information to variables\n",
    "print('Please enter a few personal information required for our company.')\n",
    "name = input('What is your name and surname?')\n",
    "age = input(\"How old ae u?\")\n",
    "number = input(\"What is your ID number?\")\n",
    "place = input(\"Where do you reside?\")\n",
    "health = input(\"Do you have a specific active disease, and if so, what is it?\")\n",
    "nationality = input(\"What is your nationality\")"
   ]
  },
  {
   "cell_type": "markdown",
   "metadata": {
    "id": "3zaUlxwcp-D0"
   },
   "source": [
    "###Meet And Greet\n",
    "Introduce yourself to your new co-workers.\n",
    "\n",
    "📌 Use a f-string to print \"My name is Joey Tribbiani I am 25 years old and I live in London”."
   ]
  },
  {
   "cell_type": "code",
   "execution_count": 8,
   "metadata": {
    "id": "XNuh5_2WXwvg"
   },
   "outputs": [
    {
     "name": "stdout",
     "output_type": "stream",
     "text": [
      "My name is Joey Tribbiani I am 25 years old and I live in London.\n"
     ]
    }
   ],
   "source": [
    "#Write a sentence using the print function to describe yourself using the variables above in the correct data type\n",
    "name = \"Joey Tribbiani\" \n",
    "year = '25'\n",
    "place = \"London\"\n",
    "print(f'My name is {name} I am {year} years old and I live in {place}.')"
   ]
  },
  {
   "cell_type": "markdown",
   "metadata": {
    "id": "EEL9To4ip-D1"
   },
   "source": [
    "### Equipment starter pack\n",
    "The HR department asks you to list the items you would need to improve your work efficiency\n",
    "\n",
    "Mandatory:\n",
    "* Laptop\n",
    "* Headset\n",
    "* Second monitor\n",
    "\n",
    "Optional:\n",
    "* Mousepad\n",
    "* USB drive\n",
    "* External drive\n",
    "\n",
    "\n",
    "📌 Create a shopping list that contains items above and print it."
   ]
  },
  {
   "cell_type": "code",
   "execution_count": 7,
   "metadata": {
    "id": "fPFBLDyqp-D2"
   },
   "outputs": [],
   "source": [
    "#Create the item_list\n",
    "item_list = [\"Laptop\", \"Headset\", \"Second Monitor\",\"Mousepad\",\"USB Drive\", \"External drive\"]"
   ]
  },
  {
   "cell_type": "code",
   "execution_count": 8,
   "metadata": {
    "id": "358R_CN5U2-J"
   },
   "outputs": [
    {
     "name": "stdout",
     "output_type": "stream",
     "text": [
      "['Laptop', 'Headset', 'Second Monitor', 'Mousepad', 'USB Drive', 'External drive']\n"
     ]
    }
   ],
   "source": [
    "#Print the list\n",
    "print(item_list)"
   ]
  },
  {
   "cell_type": "markdown",
   "metadata": {
    "id": "5keEWjCyp-D2"
   },
   "source": [
    "####What is mandatory and what is optional?\n",
    "\n",
    "📌 Use list slicing to devide your list in two list: 'mandatory_item_list' and 'optional_item_list' and print both to the screen."
   ]
  },
  {
   "cell_type": "code",
   "execution_count": 5,
   "metadata": {
    "id": "E6ewuDYZp-D2"
   },
   "outputs": [],
   "source": [
    "#Use list slicing to divide the mandatory items\n",
    "item_listM = [\"Laptop\", \"Headset\", \"Second Monitor\"]"
   ]
  },
  {
   "cell_type": "code",
   "execution_count": 6,
   "metadata": {
    "id": "hOmkym01RGEL"
   },
   "outputs": [],
   "source": [
    "#Use list slicing to divide the optional items\n",
    "item_listO = [\"Mousepad\",\"USB Drive\", \"External drive\"]"
   ]
  },
  {
   "cell_type": "code",
   "execution_count": 10,
   "metadata": {
    "id": "xsVv1_msVE1_"
   },
   "outputs": [
    {
     "name": "stdout",
     "output_type": "stream",
     "text": [
      "['Laptop', 'Headset', 'Second Monitor']\n",
      "['Mousepad', 'USB Drive', 'External drive']\n"
     ]
    }
   ],
   "source": [
    "#Print both to the screen\n",
    "print(item_listM)\n",
    "print(item_listO)"
   ]
  },
  {
   "cell_type": "markdown",
   "metadata": {
    "id": "s_M1Q93wp-D3"
   },
   "source": [
    "#### Go Shopping\n",
    "Next, you will have to go and purchase these items, the finance department confirmed a budget of $5000.\n",
    "\n",
    "📌 Assign 5000 to a variable called limit, so you know how much you can spend."
   ]
  },
  {
   "cell_type": "code",
   "execution_count": 19,
   "metadata": {
    "id": "nCmpm0oqp-D3"
   },
   "outputs": [
    {
     "name": "stdin",
     "output_type": "stream",
     "text": [
      "Please enter the total amount of the list; 4897\n"
     ]
    },
    {
     "name": "stdout",
     "output_type": "stream",
     "text": [
      "The company will pay for the products you receive.\n"
     ]
    }
   ],
   "source": [
    "#Assign the spending limit value to a variable called limit\n",
    "money_spent = int(input(\"Please enter the total amount of the list;\"))\n",
    "if money_spent > 5000:\n",
    "    print(\"The maximum amount the company will pay is 5000 dollars, please change your products.\")\n",
    "elif money_spent <= 5000:\n",
    "        print(\"The company will pay for the products you receive.\")"
   ]
  },
  {
   "cell_type": "markdown",
   "metadata": {
    "id": "VwbEEymVp-D3"
   },
   "source": [
    "####Price dictionary\n",
    "\n",
    "Before you start shopping yo need to find the best items that you can buy within the company budget. \n",
    "\n",
    "📌 Prepare a dictionary called “price_sheet” that includes the items as keys and the prices as values.  \n",
    " "
   ]
  },
  {
   "cell_type": "code",
   "execution_count": 21,
   "metadata": {
    "id": "9o9n9Ag-p-D3"
   },
   "outputs": [
    {
     "name": "stdout",
     "output_type": "stream",
     "text": [
      "{'Laptop': 3000, 'Headset': 300, 'Second Monitor': 940, 'Mousepad': 10, 'USB Drive': 22, 'External drive': 350}\n"
     ]
    }
   ],
   "source": [
    "#Create a dictionary that contains each item and its price\n",
    "price_sheet = {\"Laptop\":3000 , \n",
    "               'Headset':300, \n",
    "               'Second Monitor':940, \n",
    "               'Mousepad':10, \n",
    "               'USB Drive':22, \n",
    "               'External drive':350\n",
    "               }\n",
    "print(price_sheet)"
   ]
  },
  {
   "cell_type": "markdown",
   "metadata": {
    "id": "rUYivBVEBhCv"
   },
   "source": [
    "####Shopping functions\n",
    "\n",
    "You need to define three functions that will help you during shopping.\n",
    "\n",
    "📌 First, create an empty list that  will be your shopping cart. Here you will add the items you need to purchase.\n",
    "\n",
    "1. Define a function for both adding items to the cart and removing them from the item_list.\n",
    "\n",
    "📌 The \"add_to_cart\" function should take the item name and the quantity to buy as an argument. \n",
    "\n",
    "2. Define a function that will create an invoice. \n",
    "\n",
    "📌 The \"create_invoice\" function should calculate the taxes of each item (18%) and add it to the total amount.\n",
    "\n",
    "3. Define a function for the checkout. \n",
    "\n",
    "📌 The \"checkout\" function should subtract the total amount from the budget and print a statement to inform if the payment was successful. "
   ]
  },
  {
   "cell_type": "code",
   "execution_count": 20,
   "metadata": {
    "id": "dBNZ2ZdkGHUe"
   },
   "outputs": [
    {
     "name": "stdin",
     "output_type": "stream",
     "text": [
      "Listeniz kaç elemanlı? 3\n",
      "Listenize eklemek istediğiniz ürünleri giriniz: klavye\n",
      "Listenize eklemek istediğiniz ürünleri giriniz: kahve makinesi\n",
      "Listenize eklemek istediğiniz ürünleri giriniz: sandalye\n"
     ]
    },
    {
     "name": "stdout",
     "output_type": "stream",
     "text": [
      "['klavye', 'kahve makinesi', 'sandalye']\n"
     ]
    }
   ],
   "source": [
    "#Initialize the cart list\n",
    "cart = []\n",
    "cart_list = []\n",
    "liste_eleman_sayısı = int(input(\"Listeniz kaç elemanlı?\"))\n",
    "for i in range(liste_eleman_sayısı):\n",
    "    i = input(\"Listenize eklemek istediğiniz ürünleri giriniz:\")\n",
    "    cart_list.append(i)\n",
    "print(cart_list)"
   ]
  },
  {
   "cell_type": "code",
   "execution_count": 12,
   "metadata": {
    "id": "HH26hHHFGKPJ"
   },
   "outputs": [],
   "source": [
    "#Define the \"add_to_cart\" function\n",
    "def add_to_cart(item,quantity):\n",
    "    cart.append((item,quantity))\n",
    "    cart_list.remove(item)"
   ]
  },
  {
   "cell_type": "code",
   "execution_count": 16,
   "metadata": {
    "id": "TUmNr4xVGQdm"
   },
   "outputs": [],
   "source": [
    "#Define the \"create_invoice\" function\n",
    "def create_invoice(): \n",
    "    total_amount_tax = 0\n",
    "    for item, quantity in cart:\n",
    "        price = price_sheet[item]\n",
    "        tax = 0.18 * price\n",
    "        total = (tax+price) * quantity\n",
    "        total_amount_tax += total\n",
    "        print(\"Item:\" , item ,\"\\t\", \"price:\", price ,\"\\t\", \"Quantity:\", quantity , \"\\t\" , \"tax:\", tax ,\"\\t\" , \"Total:\", \"\\n\")\n",
    "    print(\"after the taxes are applied the total amount is:\", \"\\t\", total_amount_tax)    \n",
    "    return total_amount_tax"
   ]
  },
  {
   "cell_type": "code",
   "execution_count": 18,
   "metadata": {
    "id": "iUlKiXgMGdIk"
   },
   "outputs": [],
   "source": [
    "#Define the \"checkout\" function\n",
    "def checkout():\n",
    "    global limit\n",
    "    total_amount = create_invoice()\n",
    "    if limit == 0:\n",
    "        print(\"you do not have any budget\")\n",
    "    elif total_amount > limit:\n",
    "        print(\"the amount you have to pay is above the spending limit. you have to drop some items.\")\n",
    "    else:\n",
    "        limit != total_amount\n",
    "        print(f\"the total amount (incl. taxes) you have paid is{total_amount}. you have {limit} dollars left.\")"
   ]
  },
  {
   "cell_type": "markdown",
   "metadata": {
    "id": "2IFUlu0yB0In"
   },
   "source": [
    "Let's shop!"
   ]
  },
  {
   "cell_type": "code",
   "execution_count": 21,
   "metadata": {
    "id": "FDO7CRJTWPg7"
   },
   "outputs": [
    {
     "ename": "ValueError",
     "evalue": "list.remove(x): x not in list",
     "output_type": "error",
     "traceback": [
      "\u001b[1;31m---------------------------------------------------------------------------\u001b[0m",
      "\u001b[1;31mValueError\u001b[0m                                Traceback (most recent call last)",
      "Input \u001b[1;32mIn [21]\u001b[0m, in \u001b[0;36m<cell line: 4>\u001b[1;34m()\u001b[0m\n\u001b[0;32m      1\u001b[0m \u001b[38;5;66;03m#Call the \"add_to_cart\" function for each item\u001b[39;00m\n\u001b[0;32m      2\u001b[0m  \n\u001b[0;32m      3\u001b[0m \u001b[38;5;66;03m#Add first item to cart\u001b[39;00m\n\u001b[1;32m----> 4\u001b[0m \u001b[43madd_to_cart\u001b[49m\u001b[43m(\u001b[49m\u001b[38;5;124;43m\"\u001b[39;49m\u001b[38;5;124;43mlaptop\u001b[39;49m\u001b[38;5;124;43m\"\u001b[39;49m\u001b[43m,\u001b[49m\u001b[43m \u001b[49m\u001b[38;5;241;43m1\u001b[39;49m\u001b[43m)\u001b[49m\n\u001b[0;32m      6\u001b[0m \u001b[38;5;66;03m#Add second item to cart\u001b[39;00m\n\u001b[0;32m      7\u001b[0m add_to_cart(\u001b[38;5;124m\"\u001b[39m\u001b[38;5;124mheadset\u001b[39m\u001b[38;5;124m\"\u001b[39m, \u001b[38;5;241m8\u001b[39m)\n",
      "Input \u001b[1;32mIn [12]\u001b[0m, in \u001b[0;36madd_to_cart\u001b[1;34m(item, quantity)\u001b[0m\n\u001b[0;32m      2\u001b[0m \u001b[38;5;28;01mdef\u001b[39;00m \u001b[38;5;21madd_to_cart\u001b[39m(item,quantity):\n\u001b[0;32m      3\u001b[0m     cart\u001b[38;5;241m.\u001b[39mappend((item,quantity))\n\u001b[1;32m----> 4\u001b[0m     \u001b[43mcart_list\u001b[49m\u001b[38;5;241;43m.\u001b[39;49m\u001b[43mremove\u001b[49m\u001b[43m(\u001b[49m\u001b[43mitem\u001b[49m\u001b[43m)\u001b[49m\n",
      "\u001b[1;31mValueError\u001b[0m: list.remove(x): x not in list"
     ]
    }
   ],
   "source": [
    "#Call the \"add_to_cart\" function for each item\n",
    " \n",
    "#Add first item to cart\n",
    "add_to_cart(\"laptop\", 1)\n",
    " \n",
    "#Add second item to cart\n",
    "add_to_cart(\"headset\", 8)\n",
    " \n",
    "#Add third item to cart\n",
    "add_to_cart(\"second monitor\", 1)\n",
    " \n",
    "#Add fourth item to cart\n",
    "add_to_cart(\"mousepad\", 1)\n",
    " \n",
    "#Add fifth item to cart\n",
    "add_to_cart(\"usb drive\", 2)\n",
    " \n",
    "#Add last item to cart\n",
    "add_to_cart(\"external drive\", 4)\n",
    " \n",
    "#Call the create \"checkout\" function to pay for all your items \n",
    "checkout()"
   ]
  },
  {
   "cell_type": "markdown",
   "metadata": {
    "id": "ZL-r2x_xKixg"
   },
   "source": [
    "###Game Night\n",
    "\n",
    "You are back at the office and the HR department organizes a welcome party for new employees. \n",
    "\n",
    "You decide to create a Rock-Paper-Scissor game. \n",
    "\n",
    "📌 Create a Rock-Paper-Scissor game in which the user plays against the computer. The player will choose one of the actions, and the computer will choose its action randomly.\n"
   ]
  },
  {
   "cell_type": "code",
   "execution_count": 22,
   "metadata": {
    "id": "qzD5pxBTgcFb"
   },
   "outputs": [],
   "source": [
    "#Import the random library\n",
    "import random"
   ]
  },
  {
   "cell_type": "code",
   "execution_count": 23,
   "metadata": {
    "id": "oJv-ihLAgcRo"
   },
   "outputs": [],
   "source": [
    "#create a list containing the three actions of the game.\n",
    "action_list = [\"rock\", \"paper\", \"scissors\"]"
   ]
  },
  {
   "cell_type": "code",
   "execution_count": 39,
   "metadata": {
    "id": "DNUa_9afWqMd"
   },
   "outputs": [
    {
     "ename": "SyntaxError",
     "evalue": "invalid syntax (3461157432.py, line 39)",
     "output_type": "error",
     "traceback": [
      "\u001b[1;36m  Input \u001b[1;32mIn [39]\u001b[1;36m\u001b[0m\n\u001b[1;33m    else:\u001b[0m\n\u001b[1;37m    ^\u001b[0m\n\u001b[1;31mSyntaxError\u001b[0m\u001b[1;31m:\u001b[0m invalid syntax\n"
     ]
    }
   ],
   "source": [
    "#Set the scores of players to 0\n",
    "computer_score = 0\n",
    "player_score = 0\n",
    "\n",
    "#Ask the user how many rounds they want to play\n",
    "total_raunds = input(\"how many raunds do you want to play?please enter the number here:\")\n",
    "\n",
    "#Add a round_counter that is 0 at the beginning\n",
    "round_counter = 0\n",
    "\n",
    "#Write a while loop and put the game inside\n",
    "while True:\n",
    "\n",
    "  #Increase round_counter by and print it\n",
    "  round_counter += 1\n",
    "print(\"Round number\", round_counter)\n",
    "\n",
    "\n",
    "  #Select a random action for computer\n",
    "computer_choice = random.choice(action_list)\n",
    "\n",
    "  #Ask player to choose an action\n",
    "player_choice = input(\"please chose your action:\")\n",
    "\n",
    "  #Print the players choices\n",
    "print(\"computer:\",computer_choice)\n",
    "print(\"player\", player_choice)\n",
    "\n",
    "  #tie condition\n",
    "if computer_choice == player_choice:\n",
    "        print(\"Tie! both players chose the same action\")\n",
    "\n",
    "\n",
    "  #Remaining conditions\n",
    "elif computer_choice == \"paper\":\n",
    "        if player_choice == \"rock\":\n",
    "            print(\"winner is: computer\")\n",
    "            computer_score += 1\n",
    "            else:\n",
    "            print(\"winner is: player\")\n",
    "            player_score += 1\n",
    "            \n",
    "elif computer-choice == \"rock\":\n",
    "     if player_choice == \"paper\":\n",
    "            print(\"winner is: player\")\n",
    "            computer_score += 1\n",
    "            else:\n",
    "            print(\"winner is: computer\")\n",
    "            player_score += 1\n",
    "\n",
    "elif computer-choice == \"scissors\":\n",
    "     if player_choice == \"paper\":\n",
    "            print(\"winner is: computer\")\n",
    "            computer_score += 1\n",
    "            else:\n",
    "            print(\"winner is: player\")\n",
    "            player_score += 1 \n",
    "\n",
    "  #Stop the while loop if the round_counter equals the number of total rounds\n",
    "if round_counter == int(total=raunds):\n",
    "        break\n",
    "\n",
    "#Print the outcome of the game by using conditional statements\n",
    "if computer_score == player_score:\n",
    "    print(\"there is no winner,tie\",computer_score, \":\",player_score)\n",
    "elif computer_score > player_score:\n",
    "    print(\"computer win\", computer_score, \":\", player_score)\n",
    "elif computer_score < player_score:\n",
    "    print(\"player win\", computer_score, \":\", player_score)"
   ]
  },
  {
   "cell_type": "markdown",
   "metadata": {
    "id": "jdrYN0Xgp-D6"
   },
   "source": [
    "# Your first task \n",
    "\n",
    "Rachel asks you to write a program to track the name and revenue each employee brings.  \n",
    "\n",
    "* Create the \"salesperson_revenue\" dictionary to see the employee name as a key and the revenue as a value.\n",
    "\n",
    "  📌 Every employee starts with 0 revenue.\n",
    "* Define the \"enter_revenue\" function. \n",
    "\n",
    "  📌 The function takes the name and revenue as an argument and updates the salesperson_revenue dictionary.\n"
   ]
  },
  {
   "cell_type": "code",
   "execution_count": 41,
   "metadata": {
    "id": "3vzRo7hyMRv2"
   },
   "outputs": [],
   "source": [
    "#Create salesperson_revenue dictionary\n",
    "salesperson_revenue = {\n",
    "    \"one\":1,\n",
    "    \"two\":2,\n",
    "    \"three\":3,\n",
    "    \"four\":4,\n",
    "    \"five\":5\n",
    "}"
   ]
  },
  {
   "cell_type": "code",
   "execution_count": 42,
   "metadata": {
    "id": "m-8IozBwMRzM"
   },
   "outputs": [],
   "source": [
    "#Define enter_revenue function\n",
    "def enter_revenue(name, revenue):\n",
    "    global salesperson_revenue\n",
    "    salesperson_revenue[name] += revenue"
   ]
  },
  {
   "cell_type": "markdown",
   "metadata": {
    "id": "UnTGSoNTi58u"
   },
   "source": [
    "####Try out the functions\n",
    "* In a while loop ask the user to give the name of the employee and for the revenue \n",
    "\n",
    "  📌 If the user enters “quit” the loop should break.\n",
    "\n",
    "After that, print out the salesperson_revenue dictionary.\n"
   ]
  },
  {
   "cell_type": "code",
   "execution_count": 51,
   "metadata": {
    "id": "2E549VvFXNi6"
   },
   "outputs": [
    {
     "name": "stdin",
     "output_type": "stream",
     "text": [
      "Enter employee's name(Type quit for exit):  one\n",
      "Enter revenue:  1\n"
     ]
    },
    {
     "name": "stdout",
     "output_type": "stream",
     "text": [
      "one's revenue is 3\n"
     ]
    },
    {
     "name": "stdin",
     "output_type": "stream",
     "text": [
      "Enter employee's name(Type quit for exit):  quit\n"
     ]
    }
   ],
   "source": [
    "#Asking user employee name as input\n",
    "while True:\n",
    "    name = input(\"Enter employee's name(Type quit for exit): \")\n",
    "    if name == \"quit\":\n",
    "        break\n",
    "    revenue = int(input(\"Enter revenue: \"))\n",
    "    enter_revenue(name,revenue)\n",
    "    print(f\"{name}'s revenue is {salesperson_revenue[name]}\")"
   ]
  },
  {
   "cell_type": "code",
   "execution_count": 48,
   "metadata": {
    "id": "OAvl9rgOXPe6"
   },
   "outputs": [
    {
     "name": "stdout",
     "output_type": "stream",
     "text": [
      "{'one': 1, 'two': 2, 'three': 3, 'four': 4, 'five': 5}\n"
     ]
    }
   ],
   "source": [
    "#Print the salesperson_revenue dictionary\n",
    "print(salesperson_revenue)"
   ]
  }
 ],
 "metadata": {
  "colab": {
   "collapsed_sections": [],
   "name": "Guided_project_1.ipynb",
   "provenance": []
  },
  "interpreter": {
   "hash": "c5914ae3790566b9cd0e984a9bdda42a29da8adf046b5ac0173e0d37aacf3dab"
  },
  "kernelspec": {
   "display_name": "Python 3 (ipykernel)",
   "language": "python",
   "name": "python3"
  },
  "language_info": {
   "codemirror_mode": {
    "name": "ipython",
    "version": 3
   },
   "file_extension": ".py",
   "mimetype": "text/x-python",
   "name": "python",
   "nbconvert_exporter": "python",
   "pygments_lexer": "ipython3",
   "version": "3.9.12"
  }
 },
 "nbformat": 4,
 "nbformat_minor": 4
}
